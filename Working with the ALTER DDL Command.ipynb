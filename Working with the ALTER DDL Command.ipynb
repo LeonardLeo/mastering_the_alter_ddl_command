{
    "metadata": {
        "kernelspec": {
            "name": "SQL",
            "display_name": "SQL",
            "language": "sql"
        },
        "language_info": {
            "name": "sql",
            "version": ""
        }
    },
    "nbformat_minor": 2,
    "nbformat": 4,
    "cells": [
        {
            "cell_type": "markdown",
            "source": [
                "# **Working with the ALTER DDL command**"
            ],
            "metadata": {
                "azdata_cell_guid": "41f06215-3871-4d20-b472-56f580a7311e"
            },
            "attachments": {}
        },
        {
            "cell_type": "markdown",
            "source": [
                "1. _Removing a constraint to a column_\n",
                "2. __Adding_ a constraint to a column_\n",
                "3. _Changing the data type of a column_\n",
                "4. _Removing a column_\n",
                "5. _Adding a column_"
            ],
            "metadata": {
                "azdata_cell_guid": "fe6965e5-66dd-4c4f-827c-9e52ff1e257a"
            },
            "attachments": {}
        },
        {
            "cell_type": "markdown",
            "source": [
                "## **Requirements**"
            ],
            "metadata": {
                "language": "sql",
                "azdata_cell_guid": "6e906655-4ea0-493a-8a55-fe10d5451697"
            },
            "attachments": {}
        },
        {
            "cell_type": "code",
            "source": [
                "create database Argos_Adventurers"
            ],
            "metadata": {
                "language": "sql",
                "azdata_cell_guid": "c7553744-89a0-4998-b1f0-2e241905d4f4"
            },
            "outputs": [],
            "execution_count": null
        },
        {
            "cell_type": "code",
            "source": [
                "-- My First Comment\r\n",
                "\r\n",
                "-- CONSTRAINTS: Unique, Primary Key, Foreign Key, Check, Default, Not NUll\r\n",
                "-- CUSTOMERS TABLE SCHEMA\r\n",
                "\r\n",
                "use Argos_Adventurers\r\n",
                "\r\n",
                "\r\n",
                "create table customers(\r\n",
                "    CustomerID INT Not Null, \r\n",
                "    Name VARCHAR(100) Not Null, \r\n",
                "    Address VARCHAR(100) Not Null, \r\n",
                "    Age INT, \r\n",
                "    PhoneNumber CHAR(11) Not Null\r\n",
                "constraint PrimaryKey_Customers Primary Key(CustomerID)\r\n",
                "constraint Check_i Check(Age > 10 and Age < 100)\r\n",
                ")\r\n",
                "\r\n",
                "create table products(\r\n",
                "    Id INT Primary Key,\r\n",
                "    Name VARCHAR(100) Not Null,\r\n",
                "    Price DECIMAL(5, 2) Check(Price > 10.00) Not Null,\r\n",
                "    Quantity INT NOT NULL\r\n",
                ")\r\n",
                "\r\n",
                "\r\n",
                "create table orders(\r\n",
                "    Orderid INT PRIMARY KEY,\r\n",
                "    IdCus INT,\r\n",
                "    Productid INT,\r\n",
                "    Quantity INT NOT NULL,\r\n",
                "    TotalAmount INT NOT NULL\r\n",
                "\r\n",
                "-- (1) Making Customer ID in Orders table a FOREIGN KEY\r\n",
                "Constraint CustomerFK \r\n",
                "Foreign Key (IdCus) \r\n",
                "References Customers(CustomerID),\r\n",
                "\r\n",
                "-- (2) Making ID from the products table a FOREIGN KEY in Orders table\r\n",
                "Constraint ProductFK \r\n",
                "Foreign Key (Productid) \r\n",
                "References Products(Id)\r\n",
                ")\r\n",
                ""
            ],
            "metadata": {
                "azdata_cell_guid": "02e4f551-471f-4bf2-9900-85eff698e416",
                "language": "sql"
            },
            "outputs": [],
            "execution_count": null
        },
        {
            "cell_type": "markdown",
            "source": [
                "- **Removing a constraint to a column**"
            ],
            "metadata": {
                "azdata_cell_guid": "405f14a1-552f-452b-b226-d635cc85296a"
            },
            "attachments": {}
        },
        {
            "cell_type": "code",
            "source": [
                "-- (1) Removing the CHECK constraint for the Age in Customers Table\r\n",
                "\r\n",
                "use Argos_Adventurers\r\n",
                "\r\n",
                "Alter Table Customers\r\n",
                "Drop Constraint CK__customers__Age__37A5467C"
            ],
            "metadata": {
                "azdata_cell_guid": "ac2f3a47-cd28-4643-bf1a-11f7a46ba2ab",
                "language": "sql"
            },
            "outputs": [],
            "execution_count": null
        },
        {
            "cell_type": "code",
            "source": [
                "-- (2) Removing Foreign Key Constraint for Customers in the Orders Table\r\n",
                "\r\n",
                "use Argos_Adventurers\r\n",
                "\r\n",
                "Alter Table orders\r\n",
                "Drop Constraint CustomerFK"
            ],
            "metadata": {
                "language": "sql",
                "azdata_cell_guid": "45153b03-c8a9-4c80-bdc4-ea1ca8e38d8a"
            },
            "outputs": [],
            "execution_count": null
        },
        {
            "cell_type": "code",
            "source": [
                "-- (3) Removing Foreign Key Constraint for Products in the Orders Table\r\n",
                "\r\n",
                "use Argos_Adventurers\r\n",
                "\r\n",
                "Alter Table orders\r\n",
                "Drop Constraint ProductFK"
            ],
            "metadata": {
                "language": "sql",
                "azdata_cell_guid": "9e780f78-821d-4b11-90ca-a9cfd23fc9e5"
            },
            "outputs": [],
            "execution_count": null
        },
        {
            "cell_type": "code",
            "source": [
                "-- (4) Removing Primary Key Constraint from the Customers Table\r\n",
                "\r\n",
                "use Argos_Adventurers\r\n",
                "\r\n",
                "Alter Table Customers\r\n",
                "Drop Constraint PK__customer__A4AE64B871AC10F3\r\n",
                "\r\n",
                "-- Remember that the KEY NAME (PK__customer__A4AE64B871AC10F3) might change when you create\r\n",
                "-- Yours in Azure Data Studio. So use the RIGHT Primary Key name"
            ],
            "metadata": {
                "language": "sql",
                "azdata_cell_guid": "ec0e4ae4-ded8-41e2-9784-e3cf182baa99"
            },
            "outputs": [],
            "execution_count": null
        },
        {
            "cell_type": "code",
            "source": [
                "-- (5) Removing Primary Key Constraint from the Products Table\r\n",
                "\r\n",
                "use Argos_Adventurers\r\n",
                "\r\n",
                "Alter Table Products\r\n",
                "Drop Constraint PK__products__3214EC07FBB72E35\r\n",
                "\r\n",
                "-- Remember that the KEY NAME (PK__products__3214EC07FBB72E35) might change when you create\r\n",
                "-- Yours in Azure Data Studio. So use the RIGHT Primary Key name"
            ],
            "metadata": {
                "language": "sql",
                "azdata_cell_guid": "cf52a470-279d-4c7e-ad2e-76f83617d868"
            },
            "outputs": [],
            "execution_count": null
        },
        {
            "cell_type": "code",
            "source": [
                "-- (6) Removing the CHECK Constraint in the Price column in Products table\r\n",
                "\r\n",
                "use Argos_Adventurers\r\n",
                "\r\n",
                "Alter Table Products\r\n",
                "Drop Constraint CK__products__Price__4AB81AF0\r\n",
                "\r\n",
                "-- Remember that the KEY NAME (CK__products__Price__4AB81AF0) might change when you create\r\n",
                "-- Yours in Azure Data Studio. So use the RIGHT Constraint name"
            ],
            "metadata": {
                "language": "sql",
                "azdata_cell_guid": "aa67e21a-7c59-4361-b2a6-4da0af50c024"
            },
            "outputs": [],
            "execution_count": null
        },
        {
            "cell_type": "code",
            "source": [
                "-- (7) Removing the Primary Key constraint in the Orders Table\r\n",
                "\r\n",
                "use Argos_Adventurers\r\n",
                "\r\n",
                "Alter table Orders\r\n",
                "Drop Constraint PK__orders__C39F40174CD494A9\r\n",
                "\r\n",
                "-- Remember that the KEY NAME (PK__orders__C39F40174CD494A9) might change when you create\r\n",
                "-- Yours in Azure Data Studio. So use the RIGHT Primary Key name"
            ],
            "metadata": {
                "language": "sql",
                "azdata_cell_guid": "71008b95-b8ef-4ba3-b83e-867c9d0d0c65"
            },
            "outputs": [],
            "execution_count": null
        },
        {
            "cell_type": "code",
            "source": [
                "-- (8) Removing the UNIQUE constraint for the Orders Table\r\n",
                "\r\n",
                "use Argos_Adventurers\r\n",
                "\r\n",
                "Alter Table Orders\r\n",
                "Drop Constraint Unique_i"
            ],
            "metadata": {
                "language": "sql",
                "azdata_cell_guid": "b63ca75e-ca69-4680-8e57-fa074faeee3d"
            },
            "outputs": [],
            "execution_count": null
        },
        {
            "cell_type": "code",
            "source": [
                "-- (9) Removing the CHECK constraint for the TotalAmount Column in the Orders Table\r\n",
                "\r\n",
                "use Argos_Adventurers\r\n",
                "\r\n",
                "Alter Table Orders\r\n",
                "Drop Constraint check_i"
            ],
            "metadata": {
                "language": "sql",
                "azdata_cell_guid": "8085d618-d2ac-4cf0-b5cb-1025900f91ba"
            },
            "outputs": [],
            "execution_count": null
        },
        {
            "cell_type": "markdown",
            "source": [
                "## \n",
                "\n",
                "- **Adding a constraint to a column**"
            ],
            "metadata": {
                "azdata_cell_guid": "639889a0-64eb-42b5-a4c1-5cab631ff036"
            },
            "attachments": {}
        },
        {
            "cell_type": "code",
            "source": [
                "-- (1) Adding a CHECK CONSTRAINT to the Age Column in Customers Table\r\n",
                "\r\n",
                "use Argos_Adventurers\r\n",
                "\r\n",
                "Alter table Customers\r\n",
                "Add Constraint Check_i Check(Age > 10 and Age < 100)"
            ],
            "metadata": {
                "azdata_cell_guid": "85e1812f-7bbe-40a9-b3ae-2b0d1b267dad",
                "language": "sql"
            },
            "outputs": [],
            "execution_count": null
        },
        {
            "cell_type": "code",
            "source": [
                "-- (2) Adding a CHECK CONSTRAINT to the TotalAmount Column in Orders Table\r\n",
                "\r\n",
                "use Argos_Adventurers\r\n",
                "\r\n",
                "Alter table Orders\r\n",
                "Add Constraint Check_i Check(TotalAmount > 10)"
            ],
            "metadata": {
                "language": "sql",
                "azdata_cell_guid": "02fa3ad3-32c0-4b7c-a947-63f5a9eb432d"
            },
            "outputs": [],
            "execution_count": null
        },
        {
            "cell_type": "code",
            "source": [
                "-- (3) Adding a UNIQUE CONSTRAINT to the Primary Key in Orders Table\r\n",
                "\r\n",
                "use Argos_Adventurers\r\n",
                "\r\n",
                "Alter Table Orders\r\n",
                "Add Constraint Unique_i Unique(Orderid)"
            ],
            "metadata": {
                "language": "sql",
                "azdata_cell_guid": "4c5c1408-5376-4d39-88d1-c956eb728ace"
            },
            "outputs": [],
            "execution_count": null
        },
        {
            "cell_type": "code",
            "source": [
                "-- (4) \r\n",
                "\r\n",
                "use Argos_Adventurers\r\n",
                "\r\n",
                "Alter Table Customers\r\n",
                "Add Constraint PrimaryKey Primary Key(CustomerID)"
            ],
            "metadata": {
                "language": "sql",
                "azdata_cell_guid": "53760876-c4e3-4fb9-b877-d664a23cc6ac"
            },
            "outputs": [],
            "execution_count": null
        },
        {
            "cell_type": "code",
            "source": [
                "-- (5) \r\n",
                "\r\n",
                "use Argos_Adventurers\r\n",
                "\r\n",
                "Alter Table Products\r\n",
                "Add Constraint PrimaryKey Primary Key(id)"
            ],
            "metadata": {
                "language": "sql",
                "azdata_cell_guid": "07acf2e8-0e37-4c98-bb9f-5bc59611fdfa"
            },
            "outputs": [],
            "execution_count": null
        },
        {
            "cell_type": "code",
            "source": [
                "-- (6) \r\n",
                "\r\n",
                "use Argos_Adventurers\r\n",
                "\r\n",
                "Alter Table Orders\r\n",
                "Add Constraint PrimaryKey Primary Key(Orderid)"
            ],
            "metadata": {
                "language": "sql",
                "azdata_cell_guid": "735c37da-6ca5-4fd8-abdc-e19a1fdd1ed4"
            },
            "outputs": [],
            "execution_count": null
        },
        {
            "cell_type": "code",
            "source": [
                "-- (7) \r\n",
                "\r\n",
                "use Argos_Adventurers\r\n",
                "\r\n",
                "Alter Table Orders\r\n",
                "Add Constraint ForeignKeyCustomers Foreign Key(idCus) References Customers(CustomerID)"
            ],
            "metadata": {
                "language": "sql",
                "azdata_cell_guid": "002d4a5a-d34e-460b-9f45-985f5772b033"
            },
            "outputs": [],
            "execution_count": null
        },
        {
            "cell_type": "code",
            "source": [
                "-- (8)\r\n",
                "\r\n",
                "use Argos_Adventurers\r\n",
                "\r\n",
                "Alter Table Orders\r\n",
                "Add Constraint ForeignKeyProducts Foreign Key(Productid) References Products(id)"
            ],
            "metadata": {
                "language": "sql",
                "azdata_cell_guid": "4b88b94a-7bd3-499b-b86c-b3e34296fcd3",
                "tags": []
            },
            "outputs": [],
            "execution_count": null
        },
        {
            "cell_type": "code",
            "source": [
                "-- (9)\r\n",
                "\r\n",
                "use Argos_Adventurers\r\n",
                "\r\n",
                "Alter table Products\r\n",
                "Add Constraint Check_i Check(Price > 10)"
            ],
            "metadata": {
                "language": "sql",
                "azdata_cell_guid": "22b56eae-df7b-4261-ac80-19a9f780da17"
            },
            "outputs": [],
            "execution_count": null
        },
        {
            "cell_type": "code",
            "source": [
                "-- NOTE: This code block won't work or will give an error.\r\n",
                "-- To fix this, Go to the adding a column section and run code block 2 first before coming back here to run this.\r\n",
                "\r\n",
                "-- (10) Adding a DEFAULT constraint to the QUALITY column in the Products Table.\r\n",
                "\r\n",
                "use Argos_Adventurers\r\n",
                "\r\n",
                " Alter Table Products\r\n",
                " Add Constraint DefaultValue DEFAULT 'Average' FOR Quality"
            ],
            "metadata": {
                "language": "sql",
                "azdata_cell_guid": "4ea8e961-19e4-495a-be14-272cc3bdca69"
            },
            "outputs": [],
            "execution_count": null
        },
        {
            "cell_type": "markdown",
            "source": [
                "- **Changing the data type of a column**"
            ],
            "metadata": {
                "azdata_cell_guid": "b41f3efa-6e2c-423f-906a-cde24bca0961"
            },
            "attachments": {}
        },
        {
            "cell_type": "code",
            "source": [
                "-- (1)\r\n",
                "use Argos_Adventurers\r\n",
                "\r\n",
                "Alter table Orders\r\n",
                "Alter Column TotalAmount Decimal(7, 2) NOT NULL"
            ],
            "metadata": {
                "azdata_cell_guid": "3ea5bd20-28c1-488f-997c-1e9abaf1698b",
                "language": "sql"
            },
            "outputs": [],
            "execution_count": null
        },
        {
            "cell_type": "code",
            "source": [
                "-- (2)\r\n",
                "use Argos_Adventurers\r\n",
                "\r\n",
                "Alter table Orders\r\n",
                "Alter Column Quantity INTEGER NOT NULL"
            ],
            "metadata": {
                "language": "sql",
                "azdata_cell_guid": "e6c2582c-dbf7-4f90-a125-aaa7dc86f6a2"
            },
            "outputs": [],
            "execution_count": null
        },
        {
            "cell_type": "code",
            "source": [
                "-- (3)\r\n",
                "use Argos_Adventurers\r\n",
                "\r\n",
                "Alter table Customers\r\n",
                "Alter Column PhoneNumber VARCHAR(11) NOT NULL"
            ],
            "metadata": {
                "azdata_cell_guid": "d4aba0bd-f082-4725-93c2-6e14a9b9a0bf",
                "language": "sql"
            },
            "outputs": [],
            "execution_count": null
        },
        {
            "cell_type": "markdown",
            "source": [
                "- **Removing a column**"
            ],
            "metadata": {
                "azdata_cell_guid": "5be1a313-9e31-4888-84f0-7636f66b51d2"
            },
            "attachments": {}
        },
        {
            "cell_type": "code",
            "source": [
                "-- (1)\r\n",
                "\r\n",
                "use Argos_Adventurers\r\n",
                "\r\n",
                "Alter Table Customers\r\n",
                "Drop Column Name\r\n",
                "\r\n",
                "-- ADD THE COLUMN BACK TO THE TABLE BY REMOVING THE COMMENTS BELOW\r\n",
                "-- Alter Table Customers\r\n",
                "-- Add Name VARCHAR(100) NOT NULL "
            ],
            "metadata": {
                "azdata_cell_guid": "1cf0f1a1-fa5a-44c1-9061-909f386ae527",
                "language": "sql"
            },
            "outputs": [],
            "execution_count": null
        },
        {
            "cell_type": "code",
            "source": [
                "-- (2)\r\n",
                "\r\n",
                "use Argos_Adventurers\r\n",
                "\r\n",
                "Alter Table Products\r\n",
                "Drop Column Price\r\n",
                "\r\n",
                "-- ADD THE COLUMN BACK TO THE TABLE BY REMOVING THE COMMENTS BELOW\r\n",
                "-- Alter Table Products\r\n",
                "-- Add Price DECIMAL(5, 2) NOT NULL"
            ],
            "metadata": {
                "language": "sql",
                "azdata_cell_guid": "1a4ebb40-bc62-4ce4-a0e3-e8cbdecfc44c"
            },
            "outputs": [],
            "execution_count": null
        },
        {
            "cell_type": "code",
            "source": [
                "-- (3)\r\n",
                "\r\n",
                "use Argos_Adventurers\r\n",
                "\r\n",
                "Alter Table Customers\r\n",
                "Drop Column PhoneNumber\r\n",
                "\r\n",
                "-- ADD THE COLUMN BACK TO THE TABLE BY REMOVING THE COMMENTS BELOW\r\n",
                "-- Alter Table Customers\r\n",
                "-- Add PhoneNumber VARCHAR(11) NOT NULL"
            ],
            "metadata": {
                "language": "sql",
                "azdata_cell_guid": "b73e3959-acc3-4e5e-9135-a2a6c0cb2e2e"
            },
            "outputs": [],
            "execution_count": null
        },
        {
            "cell_type": "markdown",
            "source": [
                "- **Adding a column**"
            ],
            "metadata": {
                "azdata_cell_guid": "e5657e2f-ac2a-4730-ab39-8bb9d79f1280"
            },
            "attachments": {}
        },
        {
            "cell_type": "code",
            "source": [
                "-- (1) Adding a Column called STATUS in the Customers Table with a DEFAULT Value HAPPY\r\n",
                "\r\n",
                "use Argos_Adventurers\r\n",
                "\r\n",
                "Alter Table Customers\r\n",
                "Add Status VARCHAR(100) DEFAULT 'Happy' \r\n",
                "\r\n",
                "-- We had an ERROR here in class when we were trying to set the DEFAULT to happy. \r\n",
                "-- This is simply because in SQL SERVER, we don't use DOUBLE QUOTE (\"\") when creating any CATEGORICAL DATA.\r\n",
                "-- We are expected to ALWAYS use the SINGLE QUOTE ('')\r\n",
                "\r\n",
                "-- EXAMPLE:\r\n",
                "-- (a) Don't do this -----> \"Man\"\r\n",
                "-- (b) Do this -----------> 'Man'"
            ],
            "metadata": {
                "azdata_cell_guid": "65802543-6672-4736-a934-e2eebd311582",
                "language": "sql"
            },
            "outputs": [],
            "execution_count": null
        },
        {
            "cell_type": "code",
            "source": [
                "-- (2) Adding a Column called QUALITY to the Products Table\r\n",
                "\r\n",
                "use Argos_Adventurers\r\n",
                "\r\n",
                "Alter Table Products\r\n",
                "Add Quality VARCHAR(50)"
            ],
            "metadata": {
                "language": "sql",
                "azdata_cell_guid": "f6ee7730-c9b7-47db-98de-cbdc19a9dbbe"
            },
            "outputs": [],
            "execution_count": null
        }
    ]
}